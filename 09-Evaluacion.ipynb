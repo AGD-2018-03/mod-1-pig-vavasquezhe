{
 "cells": [
  {
   "cell_type": "markdown",
   "metadata": {},
   "source": [
    "**Recuerde no agregar o quitar celdas en este notebook, ni modificar su tipo. Si lo hace, el sistema automaticamente lo calificará con cero punto cero (0.0)**"
   ]
  },
  {
   "cell_type": "markdown",
   "metadata": {},
   "source": [
    "Use el siguiente conjunto de datos para resolver los problemas propuestos. Use [gradetool](gradetool.md) para verificar las respuestas del notebook."
   ]
  },
  {
   "cell_type": "code",
   "execution_count": 1,
   "metadata": {},
   "outputs": [
    {
     "name": "stdout",
     "output_type": "stream",
     "text": [
      "Overwriting data.csv\n"
     ]
    }
   ],
   "source": [
    "%%writefile data.csv\n",
    "1,Vivian,Hamilton,1971-07-08,green,1\n",
    "2,Karen,Holcomb,1974-05-23,green,4\n",
    "3,Cody,Garrett,1973-04-22,orange,1\n",
    "4,Roth,Fry,1975-01-29,black,1\n",
    "5,Zoe,Conway,1974-07-03,blue,2\n",
    "6,Gretchen,Kinney,1974-10-18,viole,1\n",
    "7,Driscoll,Klein,1970-10-05,blue,5\n",
    "8,Karyn,Diaz,1969-02-24,red,1\n",
    "9,Merritt,Guy,1974-10-17,indigo,4\n",
    "10,Kylan,Sexton,1975-02-28,black,4\n",
    "11,Jordan,Estes,1969-12-07,indigo,4\n",
    "12,Hope,Coffey,1973-12-24,green,5\n",
    "13,Vivian,Crane,1970-08-27,gray,5\n",
    "14,Clio,Noel,1972-12-12,red,5\n",
    "15,Hope,Silva,1970-07-01,blue,5\n",
    "16,Ayanna,Jarvis,1974-02-11,orange,5\n",
    "17,Chanda,Boyer,1973-04-01,green,4\n",
    "18,Chadwick,Knight,1973-04-29,yellow,1"
   ]
  },
  {
   "cell_type": "code",
   "execution_count": 2,
   "metadata": {},
   "outputs": [],
   "source": [
    "%load_ext bigdata\n",
    "%pig_init"
   ]
  },
  {
   "cell_type": "code",
   "execution_count": 3,
   "metadata": {
    "scrolled": true
   },
   "outputs": [],
   "source": [
    "%%pig\n",
    "u = LOAD 'data.csv' USING PigStorage(',') \n",
    "    AS (id:int, \n",
    "        firstname:CHARARRAY, \n",
    "        surname:CHARARRAY, \n",
    "        birthday:CHARARRAY, \n",
    "        color:CHARARRAY, \n",
    "        quantity:INT);"
   ]
  },
  {
   "cell_type": "markdown",
   "metadata": {},
   "source": [
    "## Pregunta 1\n",
    "\n",
    "Escriba una consulta en Pig que genere la siguiente salida:\n",
    "\n",
    "    (Vivian@Hamilton)\n",
    "    (Karen@Holcomb)\n",
    "    (Cody@Garrett)\n",
    "    (Roth@Fry)\n",
    "    (Zoe@Conway)\n",
    "    (Gretchen@Kinney)\n",
    "    (Driscoll@Klein)\n",
    "    (Karyn@Diaz)\n",
    "    (Merritt@Guy)\n",
    "    (Kylan@Sexton)\n",
    "    (Jordan@Estes)\n",
    "    (Hope@Coffey)\n",
    "    (Vivian@Crane)\n",
    "    (Clio@Noel)\n",
    "    (Hope@Silva)\n",
    "    (Ayanna@Jarvis)\n",
    "    (Chanda@Boyer)\n",
    "    (Chadwick@Knight)"
   ]
  },
  {
   "cell_type": "code",
   "execution_count": 6,
   "metadata": {},
   "outputs": [
    {
     "name": "stdout",
     "output_type": "stream",
     "text": [
      "(Vivian@Hamilton)\n",
      "(Karen@Holcomb)\n",
      "(Cody@Garrett)\n",
      "(Roth@Fry)\n",
      "(Zoe@Conway)\n",
      "(Gretchen@Kinney)\n",
      "(Driscoll@Klein)\n",
      "(Karyn@Diaz)\n",
      "(Merritt@Guy)\n",
      "(Kylan@Sexton)\n",
      "(Jordan@Estes)\n",
      "(Hope@Coffey)\n",
      "(Vivian@Crane)\n",
      "(Clio@Noel)\n",
      "(Hope@Silva)\n",
      "(Ayanna@Jarvis)\n",
      "(Chanda@Boyer)\n",
      "(Chadwick@Knight)\n"
     ]
    }
   ],
   "source": [
    "%%pig\n",
    "a = FOREACH u GENERATE CONCAT(firstname,'@',surname);\n",
    "dump a"
   ]
  },
  {
   "cell_type": "markdown",
   "metadata": {},
   "source": [
    "## Pregunta 2\n",
    "\n",
    "Genere una relación con el apellido y su longitud. Ordene por longitud y por apellido. Obtenga la siguiente salida.\n",
    "\n",
    "    (Hamilton,8)\n",
    "    (Garrett,7)\n",
    "    (Holcomb,7)\n",
    "    (Coffey,6)\n",
    "    (Conway,6)"
   ]
  },
  {
   "cell_type": "code",
   "execution_count": 7,
   "metadata": {},
   "outputs": [
    {
     "name": "stdout",
     "output_type": "stream",
     "text": [
      "(Hamilton,8)\n",
      "(Garrett,7)\n",
      "(Holcomb,7)\n",
      "(Coffey,6)\n",
      "(Conway,6)\n"
     ]
    }
   ],
   "source": [
    "%%pig\n",
    "b = FOREACH u GENERATE surname,SIZE(surname) as tama;\n",
    "y = ORDER b BY tama DESC, surname;\n",
    "y = limit y 5;\n",
    "dump y;"
   ]
  },
  {
   "cell_type": "markdown",
   "metadata": {},
   "source": [
    "## Pregunta 3\n",
    "\n",
    "Escriba el código que genere la siguiente salida.\n",
    "\n",
    "    (Hamilton,HAMILTON,hamilton)\n",
    "    (Holcomb,HOLCOMB,holcomb)\n",
    "    (Garrett,GARRETT,garrett)\n",
    "    (Fry,FRY,fry)\n",
    "    (Conway,CONWAY,conway)"
   ]
  },
  {
   "cell_type": "code",
   "execution_count": 8,
   "metadata": {},
   "outputs": [
    {
     "name": "stdout",
     "output_type": "stream",
     "text": [
      "(Hamilton,HAMILTON,hamilton)\n",
      "(Holcomb,HOLCOMB,holcomb)\n",
      "(Garrett,GARRETT,garrett)\n",
      "(Fry,FRY,fry)\n",
      "(Conway,CONWAY,conway)\n"
     ]
    }
   ],
   "source": [
    "%%pig\n",
    "c = FOREACH u GENERATE surname, UPPER(surname),LOWER(surname);\n",
    "c = limit c 5;\n",
    "dump c;"
   ]
  },
  {
   "cell_type": "markdown",
   "metadata": {},
   "source": [
    "## Pregunta 4\n",
    "\n",
    "Obtenga los apellidos que empiecen por las letras entre la 'd' y la 'k'. La salida esperada es la siguiente:\n",
    "\n",
    "    (Hamilton)\n",
    "    (Holcomb)\n",
    "    (Garrett)\n",
    "    (Fry)\n",
    "    (Kinney)\n",
    "    (Klein)\n",
    "    (Diaz)\n",
    "    (Guy)\n",
    "    (Estes)\n",
    "    (Jarvis)\n",
    "    (Knight)"
   ]
  },
  {
   "cell_type": "code",
   "execution_count": 15,
   "metadata": {},
   "outputs": [
    {
     "name": "stdout",
     "output_type": "stream",
     "text": [
      "(Hamilton)\n",
      "(Holcomb)\n",
      "(Garrett)\n",
      "(Fry)\n",
      "(Kinney)\n",
      "(Klein)\n",
      "(Diaz)\n",
      "(Guy)\n",
      "(Estes)\n",
      "(Jarvis)\n",
      "(Knight)\n"
     ]
    }
   ],
   "source": [
    "%%pig\n",
    "d = FILTER u BY (LOWER(SUBSTRING(surname,0,1)) >= 'd')\n",
    "AND (LOWER(SUBSTRING(surname,0,1)) <= 'k');\n",
    "f = FOREACH d GENERATE surname;\n",
    "dump f;"
   ]
  },
  {
   "cell_type": "markdown",
   "metadata": {},
   "source": [
    "## Pregunta 5\n",
    "\n",
    "Escriba el código equivalente a la siguiente consulta en SQL.\n",
    "\n",
    "    SELECT\n",
    "        color\n",
    "    FROM \n",
    "        u \n",
    "    WHERE \n",
    "        color \n",
    "    LIKE 'b%';"
   ]
  },
  {
   "cell_type": "code",
   "execution_count": 10,
   "metadata": {},
   "outputs": [
    {
     "name": "stdout",
     "output_type": "stream",
     "text": [
      "(black)\n",
      "(blue)\n",
      "(blue)\n",
      "(black)\n",
      "(blue)\n"
     ]
    }
   ],
   "source": [
    "%%pig\n",
    "\n",
    "--f = FILTER u BY (LOWER(SUBSTRING(color,0,1)) == 'b');\n",
    "--g = FOREACH f GENERATE color;\n",
    "--dump g;\n",
    "\n",
    "lluvia = FILTER u BY REGEX_EXTRACT(color, '^b', 0) == 'b';\n",
    "lluvia = FOREACH lluvia GENERATE color;\n",
    "dump lluvia;"
   ]
  },
  {
   "cell_type": "markdown",
   "metadata": {},
   "source": [
    "## Pregunta 6\n",
    "\n",
    "Escriba el código equivalente a la siguiente consulta SQL.\n",
    "\n",
    "    SELECT \n",
    "        color \n",
    "    FROM \n",
    "        u \n",
    "    WHERE \n",
    "        color NOT LIKE 'b%';"
   ]
  },
  {
   "cell_type": "code",
   "execution_count": 11,
   "metadata": {},
   "outputs": [
    {
     "name": "stdout",
     "output_type": "stream",
     "text": [
      "(green)\n",
      "(green)\n",
      "(orange)\n",
      "(viole)\n",
      "(red)\n",
      "(indigo)\n",
      "(indigo)\n",
      "(green)\n",
      "(gray)\n",
      "(red)\n",
      "(orange)\n",
      "(green)\n",
      "(yellow)\n"
     ]
    }
   ],
   "source": [
    "%%pig\n",
    "--f = FILTER u BY (LOWER(SUBSTRING(color,0,1)) != 'b');\n",
    "--g = FOREACH f GENERATE color;\n",
    "--dump g;\n",
    "\n",
    "lluvia = FILTER u BY REGEX_EXTRACT(color, '^[^b]', 0) != 'b';\n",
    "lluvia = FOREACH lluvia GENERATE color;\n",
    "dump lluvia;"
   ]
  },
  {
   "cell_type": "markdown",
   "metadata": {},
   "source": [
    "## Pregunta 7\n",
    "\n",
    "Escriba el código equivalente a la siguiente consulta SQL.\n",
    "\n",
    "    SELECT \n",
    "        firstname,\n",
    "        color\n",
    "    FROM \n",
    "        u \n",
    "    WHERE color = 'blue' AND firstname LIKE 'Z%';"
   ]
  },
  {
   "cell_type": "code",
   "execution_count": 14,
   "metadata": {},
   "outputs": [
    {
     "name": "stdout",
     "output_type": "stream",
     "text": [
      "(Zoe,blue)\n"
     ]
    }
   ],
   "source": [
    "%%pig\n",
    "--h = FILTER u BY (color MATCHES 'blue') \n",
    "--AND (SUBSTRING(firstname,0,1) == 'Z');\n",
    "--i = FOREACH h GENERATE firstname,color;\n",
    "--dump i;\n",
    "\n",
    "h = FILTER u BY (color MATCHES 'blue');\n",
    "i = FILTER h by (REGEX_EXTRACT(firstname, '^Z', 0) == 'Z');\n",
    "j = FOREACH i GENERATE firstname,color;\n",
    "dump j;"
   ]
  },
  {
   "cell_type": "markdown",
   "metadata": {},
   "source": [
    "## Pregunta 8\n",
    "\n",
    "Escriba el código equivalente a la siguiente consulta SQL.\n",
    "\n",
    "    SELECT\n",
    "        firstname,\n",
    "        color\n",
    "    FROM \n",
    "        u\n",
    "    WHERE color = 'blue' OR firstname LIKE 'K%';"
   ]
  },
  {
   "cell_type": "code",
   "execution_count": 13,
   "metadata": {},
   "outputs": [
    {
     "name": "stdout",
     "output_type": "stream",
     "text": [
      "(Karen,green)\n",
      "(Zoe,blue)\n",
      "(Driscoll,blue)\n",
      "(Karyn,red)\n",
      "(Kylan,black)\n",
      "(Hope,blue)\n"
     ]
    }
   ],
   "source": [
    "%%pig\n",
    "--el operador OR me está imprimiendo una linea no pone problema pues el \n",
    "--resultado es correcto, pero la calificación la tacha de incorrecta\n",
    "--j = FILTER u BY color MATCHES 'blue';\n",
    "--k = FILTER u BY (REGEX_EXTRACT(firstname,'^K',0) == 'K');\n",
    "\n",
    "j = FILTER u BY (color MATCHES 'blue') OR \n",
    "(REGEX_EXTRACT(firstname,'^K',0) == 'K');\n",
    "k = FOREACH j GENERATE firstname,color;\n",
    "dump k;"
   ]
  },
  {
   "cell_type": "markdown",
   "metadata": {},
   "source": [
    "## Pregunta 9\n",
    "\n",
    "Escriba el código equivalente a la siguiente consulta SQL.\n",
    "\n",
    "    SELECT \n",
    "        firstname, color \n",
    "    FROM \n",
    "        u\n",
    "    WHERE color IN ('blue','black');"
   ]
  },
  {
   "cell_type": "code",
   "execution_count": 16,
   "metadata": {},
   "outputs": [
    {
     "name": "stdout",
     "output_type": "stream",
     "text": [
      "(Roth,black)\n",
      "(Zoe,blue)\n",
      "(Driscoll,blue)\n",
      "(Kylan,black)\n",
      "(Hope,blue)\n"
     ]
    }
   ],
   "source": [
    "%%pig\n",
    "l = FILTER u BY (color MATCHES 'blue') OR (color MATCHES 'black');\n",
    "m = FOREACH l GENERATE firstname,color;\n",
    "dump m;"
   ]
  },
  {
   "cell_type": "markdown",
   "metadata": {},
   "source": [
    "## Pregunta 10\n",
    "\n",
    "Escriba el código equivalente a la siguiente consulta SQL.\n",
    "\n",
    "    SELECT \n",
    "        firstname, \n",
    "        color \n",
    "    FROM \n",
    "        u \n",
    "    WHERE color NOT IN ('blue','black');"
   ]
  },
  {
   "cell_type": "code",
   "execution_count": 17,
   "metadata": {},
   "outputs": [
    {
     "name": "stdout",
     "output_type": "stream",
     "text": [
      "(Vivian,green)\n",
      "(Karen,green)\n",
      "(Cody,orange)\n",
      "(Gretchen,viole)\n",
      "(Karyn,red)\n",
      "(Merritt,indigo)\n",
      "(Jordan,indigo)\n",
      "(Hope,green)\n",
      "(Vivian,gray)\n",
      "(Clio,red)\n",
      "(Ayanna,orange)\n",
      "(Chanda,green)\n",
      "(Chadwick,yellow)\n"
     ]
    }
   ],
   "source": [
    "%%pig\n",
    "n = FILTER u BY NOT((color MATCHES 'blue') OR (color MATCHES 'black'));\n",
    "o = FOREACH n GENERATE firstname,color;\n",
    "dump o;"
   ]
  },
  {
   "cell_type": "markdown",
   "metadata": {},
   "source": [
    "## Pregunta 11\n",
    "\n",
    "Escriba el código equivalente a la siguiente consulta SQL.\n",
    "\n",
    "    SELECT\n",
    "        firstname,\n",
    "        color\n",
    "    FROM \n",
    "        u \n",
    "    WHERE \n",
    "        color REGEXP '^b';"
   ]
  },
  {
   "cell_type": "code",
   "execution_count": 18,
   "metadata": {},
   "outputs": [
    {
     "name": "stdout",
     "output_type": "stream",
     "text": [
      "(Roth,black)\n",
      "(Zoe,blue)\n",
      "(Driscoll,blue)\n",
      "(Kylan,black)\n",
      "(Hope,blue)\n"
     ]
    }
   ],
   "source": [
    "%%pig\n",
    "p= FILTER u BY (REGEX_EXTRACT(color,'^b',0) == 'b');\n",
    "q= FOREACH p GENERATE firstname,color;\n",
    "dump q;"
   ]
  },
  {
   "cell_type": "markdown",
   "metadata": {},
   "source": [
    "## Pregunta 12\n",
    "\n",
    "Escriba el código equivalente a la siguiente consulta SQL.\n",
    "\n",
    "    SELECT\n",
    "        firstname,\n",
    "        color\n",
    "    FROM \n",
    "        u \n",
    "    WHERE \n",
    "        color REGEXP '^[^b]';"
   ]
  },
  {
   "cell_type": "code",
   "execution_count": 19,
   "metadata": {},
   "outputs": [
    {
     "name": "stdout",
     "output_type": "stream",
     "text": [
      "(Vivian,green)\n",
      "(Karen,green)\n",
      "(Cody,orange)\n",
      "(Gretchen,viole)\n",
      "(Karyn,red)\n",
      "(Merritt,indigo)\n",
      "(Jordan,indigo)\n",
      "(Hope,green)\n",
      "(Vivian,gray)\n",
      "(Clio,red)\n",
      "(Ayanna,orange)\n",
      "(Chanda,green)\n",
      "(Chadwick,yellow)\n"
     ]
    }
   ],
   "source": [
    "%%pig\n",
    "p= FILTER u BY (REGEX_EXTRACT(color,'^[^b]',0) != 'b');\n",
    "q= FOREACH p GENERATE firstname,color;\n",
    "dump q;"
   ]
  },
  {
   "cell_type": "markdown",
   "metadata": {},
   "source": [
    "## Pregunta 13\n",
    "\n",
    "Escriba el código equivalente a la siguiente consulta SQL.\n",
    "\n",
    "    SELECT \n",
    "        firstname,\n",
    "        color\n",
    "    FROM \n",
    "        u\n",
    "    WHERE \n",
    "        color REGEXP 'blue|green';"
   ]
  },
  {
   "cell_type": "code",
   "execution_count": 38,
   "metadata": {},
   "outputs": [
    {
     "name": "stdout",
     "output_type": "stream",
     "text": [
      "(Vivian,green)\n",
      "(Karen,green)\n",
      "(Zoe,blue)\n",
      "(Driscoll,blue)\n",
      "(Hope,green)\n",
      "(Hope,blue)\n",
      "(Chanda,green)\n"
     ]
    }
   ],
   "source": [
    "%%pig\n",
    "p= FILTER u BY (REGEX_EXTRACT(color,'blue|green',0) == 'blue') \n",
    "OR (REGEX_EXTRACT(color,'blue|green',0) == 'green');\n",
    "q= FOREACH p GENERATE firstname,color;\n",
    "dump q;"
   ]
  },
  {
   "cell_type": "markdown",
   "metadata": {},
   "source": [
    "## Pregunta 14\n",
    "\n",
    "Escriba el código equivalente a la siguiente consulta SQL.\n",
    "\n",
    "    SELECT \n",
    "        firstname,\n",
    "        color\n",
    "    FROM \n",
    "        u\n",
    "    WHERE \n",
    "        color REGEXP '.n';"
   ]
  },
  {
   "cell_type": "code",
   "execution_count": 48,
   "metadata": {},
   "outputs": [
    {
     "name": "stdout",
     "output_type": "stream",
     "text": [
      "(Vivian,green)\n",
      "(Karen,green)\n",
      "(Hope,green)\n",
      "(Chanda,green)\n"
     ]
    }
   ],
   "source": [
    "%%pig\n",
    "p= FILTER u BY (LOWER(SUBSTRING(color,((int)(SIZE(color)-1))\n",
    "                                ,(int)SIZE(color)))) == 'n';\n",
    "q= FOREACH p GENERATE firstname,color;\n",
    "dump q;"
   ]
  },
  {
   "cell_type": "markdown",
   "metadata": {},
   "source": [
    "## Pregunta 15\n",
    "\n",
    "Escriba el código equivalente a la siguiente consulta SQL.\n",
    "\n",
    "    SELECT \n",
    "        firstname,\n",
    "        color \n",
    "    FROM \n",
    "        u \n",
    "    WHERE \n",
    "        color REGEXP '[aeiou]$';"
   ]
  },
  {
   "cell_type": "code",
   "execution_count": 49,
   "metadata": {},
   "outputs": [
    {
     "name": "stdout",
     "output_type": "stream",
     "text": [
      "(Cody,orange)\n",
      "(Zoe,blue)\n",
      "(Gretchen,viole)\n",
      "(Driscoll,blue)\n",
      "(Merritt,indigo)\n",
      "(Jordan,indigo)\n",
      "(Hope,blue)\n",
      "(Ayanna,orange)\n"
     ]
    }
   ],
   "source": [
    "%%pig\n",
    "llueve = FILTER u BY REGEX_EXTRACT(color, '[aeiou]$', 0) != '';\n",
    "llueve = FOREACH llueve GENERATE firstname,color;\n",
    "dump llueve;"
   ]
  },
  {
   "cell_type": "markdown",
   "metadata": {},
   "source": [
    "## Pregunta 16\n",
    "\n",
    "Escriba el código equivalente a la siguiente consulta SQL.\n",
    "\n",
    "    SELECT \n",
    "        REGEX_EXTRACT(birthday, '....-..-..', 2) \n",
    "    FROM \n",
    "        u;"
   ]
  },
  {
   "cell_type": "code",
   "execution_count": 25,
   "metadata": {},
   "outputs": [
    {
     "name": "stdout",
     "output_type": "stream",
     "text": [
      "(07)\n",
      "(05)\n",
      "(04)\n",
      "(01)\n",
      "(07)\n",
      "(10)\n",
      "(10)\n",
      "(02)\n",
      "(10)\n",
      "(02)\n",
      "(12)\n",
      "(12)\n",
      "(08)\n",
      "(12)\n",
      "(07)\n",
      "(02)\n",
      "(04)\n",
      "(04)\n"
     ]
    }
   ],
   "source": [
    "%%pig\n",
    "llueve = foreach u generate \n",
    "REGEX_EXTRACT(birthday, '(....)-(..)-(..)', 2);\n",
    "dump llueve;"
   ]
  },
  {
   "cell_type": "markdown",
   "metadata": {},
   "source": [
    "## Pregunta 17\n",
    "\n",
    "Escriba el código equivalente a la siguiente consulta SQL.\n",
    "\n",
    "    SELECT  \n",
    "        firstname,\n",
    "        SUBSTRING_INDEX(firstname, 'a', 1)\n",
    "    FROM \n",
    "        u;"
   ]
  },
  {
   "cell_type": "code",
   "execution_count": 51,
   "metadata": {},
   "outputs": [
    {
     "name": "stdout",
     "output_type": "stream",
     "text": [
      "(4)\n",
      "(1)\n",
      "(-1)\n",
      "(-1)\n",
      "(-1)\n",
      "(-1)\n",
      "(-1)\n",
      "(1)\n",
      "(-1)\n",
      "(3)\n",
      "(4)\n",
      "(-1)\n",
      "(4)\n",
      "(-1)\n",
      "(-1)\n",
      "(2)\n",
      "(2)\n",
      "(2)\n"
     ]
    }
   ],
   "source": [
    "%%pig\n",
    "\n",
    "q= FOREACH u GENERATE INDEXOF(firstname,'a',1) as index;\n",
    "--la respuesta del ejercicio debería de ser:\n",
    "-- q= FOREACH u GENERATE firstname,INDEXOF(firstname,'a',1) as index;\n",
    "--p = FOREACH q GENERATE \n",
    "--(CASE \n",
    "-- WHEN index == -1 THEN firstname\n",
    "-- WHEN index != -1 THEN SUBSTRING(firstname,0,(int)index)\n",
    "-- END);\n",
    "dump q;"
   ]
  },
  {
   "cell_type": "markdown",
   "metadata": {},
   "source": [
    "## Pregunta 18\n",
    "\n",
    "Escriba el código equivalente a la siguiente consulta SQL.\n",
    "\n",
    "    SELECT \n",
    "        firstname \n",
    "    FROM \n",
    "        u \n",
    "    WHERE \n",
    "        SUBSTRING(firstname, 0, 1) >= 'm';"
   ]
  },
  {
   "cell_type": "code",
   "execution_count": 27,
   "metadata": {},
   "outputs": [
    {
     "name": "stdout",
     "output_type": "stream",
     "text": [
      "(Vivian)\n",
      "(Roth)\n",
      "(Zoe)\n",
      "(Merritt)\n",
      "(Vivian)\n"
     ]
    }
   ],
   "source": [
    "%%pig\n",
    "x = FILTER u BY SUBSTRING(LOWER(firstname),0,1) >= 'm';\n",
    "x = FOREACH x GENERATE firstname;\n",
    "dump x;"
   ]
  },
  {
   "cell_type": "markdown",
   "metadata": {},
   "source": [
    "## Pregunta 19\n",
    "\n",
    "Escriba el código equivalente a la siguiente consulta SQL.\n",
    "\n",
    "    SELECT \n",
    "        firstname, \n",
    "        LOCATE('ia', firstname) \n",
    "    FROM \n",
    "        u;"
   ]
  },
  {
   "cell_type": "code",
   "execution_count": 52,
   "metadata": {},
   "outputs": [
    {
     "name": "stdout",
     "output_type": "stream",
     "text": [
      "(3)\n",
      "(-1)\n",
      "(-1)\n",
      "(-1)\n",
      "(-1)\n",
      "(-1)\n",
      "(-1)\n",
      "(-1)\n",
      "(-1)\n",
      "(-1)\n",
      "(-1)\n",
      "(-1)\n",
      "(3)\n",
      "(-1)\n",
      "(-1)\n",
      "(-1)\n",
      "(-1)\n",
      "(-1)\n"
     ]
    }
   ],
   "source": [
    "%%pig\n",
    "--q= FOREACH u GENERATE firstname,INDEXOF(firstname,'ia',1) as index;\n",
    "q= FOREACH u GENERATE INDEXOF(firstname,'ia',1) as index;\n",
    "dump q;"
   ]
  },
  {
   "cell_type": "markdown",
   "metadata": {},
   "source": [
    "## Pregunta 20\n",
    "\n",
    "Escriba el código en Pig para manipulación de fechas que genere sea equivalente a la siguiente consulta SQL.\n",
    "\n",
    "    SELECT \n",
    "        birthday, \n",
    "        DATE_FORMAT(birthday, \"yyyy\"),\n",
    "        DATE_FORMAT(birthday, \"yy\"),\n",
    "    FROM \n",
    "        persons\n",
    "    LIMIT\n",
    "        5;"
   ]
  },
  {
   "cell_type": "code",
   "execution_count": 54,
   "metadata": {},
   "outputs": [
    {
     "name": "stdout",
     "output_type": "stream",
     "text": [
      "(1971,71)\n",
      "(1974,74)\n",
      "(1973,73)\n",
      "(1975,75)\n",
      "(1974,74)\n",
      "(1974,74)\n",
      "(1970,70)\n",
      "(1969,69)\n",
      "(1974,74)\n",
      "(1975,75)\n",
      "(1969,69)\n",
      "(1973,73)\n",
      "(1970,70)\n",
      "(1972,72)\n",
      "(1970,70)\n",
      "(1974,74)\n",
      "(1973,73)\n",
      "(1973,73)\n"
     ]
    }
   ],
   "source": [
    "%%pig\n",
    "--respuesta equivocada\n",
    "--date_data = FOREACH u generate birthday,\n",
    "--          ToString(ToDate(birthday,'yyyy-MM-dd'),'yyyy'),\n",
    "--            ToString(ToDate(birthday,'yyyy-MM-dd'),'yy');\n",
    "--date_data = LIMIT date_data 5;\n",
    "date_data = FOREACH u generate \n",
    "        ToString(ToDate(birthday,'yyyy-MM-dd'),'yyyy'),\n",
    "        ToString(ToDate(birthday,'yyyy-MM-dd'),'yy');\n",
    "dump date_data;"
   ]
  },
  {
   "cell_type": "markdown",
   "metadata": {},
   "source": [
    "## Pregunta 21\n",
    "\n",
    "Escriba el código en Pig para manipulación de fechas que genere la siguiente salida.\n",
    "\n",
    "    (1971-07-08,jul,07,7)\n",
    "    (1974-05-23,may,05,5)\n",
    "    (1973-04-22,abr,04,4)\n",
    "    (1975-01-29,ene,01,1)\n",
    "    (1974-07-03,jul,07,7)\n",
    "    (1974-10-18,oct,10,10)\n",
    "    (1970-10-05,oct,10,10)\n",
    "    (1969-02-24,feb,02,2)\n",
    "    (1974-10-17,oct,10,10)\n",
    "    (1975-02-28,feb,02,2)\n",
    "    (1969-12-07,dic,12,12)\n",
    "    (1973-12-24,dic,12,12)\n",
    "    (1970-08-27,ago,08,8)\n",
    "    (1972-12-12,dic,12,12)\n",
    "    (1970-07-01,jul,07,7)\n",
    "    (1974-02-11,feb,02,2)\n",
    "    (1973-04-01,abr,04,4)\n",
    "    (1973-04-29,abr,04,4)"
   ]
  },
  {
   "cell_type": "code",
   "execution_count": 34,
   "metadata": {},
   "outputs": [
    {
     "name": "stdout",
     "output_type": "stream",
     "text": [
      "(1971-07-08,jul,07,7)\n",
      "(1974-05-23,may,05,5)\n",
      "(1973-04-22,abr,04,4)\n",
      "(1975-01-29,ene,01,1)\n",
      "(1974-07-03,jul,07,7)\n",
      "(1974-10-18,oct,10,10)\n",
      "(1970-10-05,oct,10,10)\n",
      "(1969-02-24,feb,02,2)\n",
      "(1974-10-17,oct,10,10)\n",
      "(1975-02-28,feb,02,2)\n",
      "(1969-12-07,dic,12,12)\n",
      "(1973-12-24,dic,12,12)\n",
      "(1970-08-27,ago,08,8)\n",
      "(1972-12-12,dic,12,12)\n",
      "(1970-07-01,jul,07,7)\n",
      "(1974-02-11,feb,02,2)\n",
      "(1973-04-01,abr,04,4)\n",
      "(1973-04-29,abr,04,4)\n"
     ]
    }
   ],
   "source": [
    "%%pig\n",
    "date_data = FOREACH u generate birthday,\n",
    "ToString( ToDate(birthday,'yyyy-MM-dd'), 'MMM' ) as mes;\n",
    "\n",
    "date_data = FOREACH date_data GENERATE birthday,(CASE     \n",
    "                              WHEN mes == 'Jan' THEN 'ene' \n",
    "                              WHEN mes == 'Feb' THEN 'feb' \n",
    "                              WHEN mes == 'Mar' THEN 'mar' \n",
    "                              WHEN mes == 'May' THEN 'may' \n",
    "                              WHEN mes == 'Apr' THEN 'abr' \n",
    "                              WHEN mes == 'Jun' THEN 'jun'\n",
    "                              WHEN mes == 'Jul' THEN 'jul' \n",
    "                              WHEN mes == 'Aug' THEN 'ago' \n",
    "                              WHEN mes == 'Sep' THEN 'sep' \n",
    "                              WHEN mes == 'Oct' THEN 'oct'\n",
    "                              WHEN mes == 'Nov' THEN 'nov' \n",
    "                              WHEN mes == 'Dec' THEN 'dic' \n",
    "                              END),\n",
    "                              (CASE\n",
    "            WHEN GetMonth(ToDate(birthday,'yyyy-MM-dd')) < 10 THEN \n",
    "            CONCAT('0',(chararray)GetMonth(ToDate(birthday,'yyyy-MM-dd')))\n",
    "            ELSE (chararray)GetMonth(ToDate(birthday,'yyyy-MM-dd'))\n",
    "            END),\n",
    "            GetMonth(ToDate(birthday,'yyyy-MM-dd'));\n",
    "                              \n",
    "dump date_data;"
   ]
  },
  {
   "cell_type": "markdown",
   "metadata": {},
   "source": [
    "## Pregunta 22\n",
    "\n",
    "Escriba el código en Pig para manipulación de fechas que genere la siguiente salida:\n",
    "\n",
    "    (1971-07-08,08,8,jue,jueves)\n",
    "    (1974-05-23,23,23,jue,jueves)\n",
    "    (1973-04-22,22,22,dom,domingo)\n",
    "    (1975-01-29,29,29,mié,miércoles)\n",
    "    (1974-07-03,03,3,mié,miércoles)\n",
    "    (1974-10-18,18,18,vie,viernes)\n",
    "    (1970-10-05,05,5,lun,lunes)\n",
    "    (1969-02-24,24,24,lun,lunes)\n",
    "    (1974-10-17,17,17,jue,jueves)\n",
    "    (1975-02-28,28,28,vie,viernes)\n",
    "    (1969-12-07,07,7,dom,domingo)\n",
    "    (1973-12-24,24,24,lun,lunes)\n",
    "    (1970-08-27,27,27,jue,jueves)\n",
    "    (1972-12-12,12,12,mar,martes)\n",
    "    (1970-07-01,01,1,mié,miércoles)\n",
    "    (1974-02-11,11,11,lun,lunes)\n",
    "    (1973-04-01,01,1,dom,domingo)\n",
    "    (1973-04-29,29,29,dom,domingo)"
   ]
  },
  {
   "cell_type": "code",
   "execution_count": 36,
   "metadata": {},
   "outputs": [
    {
     "name": "stdout",
     "output_type": "stream",
     "text": [
      "(1971-07-08,08,8,jue,jueves)\n",
      "(1974-05-23,23,23,jue,jueves)\n",
      "(1973-04-22,22,22,dom,domingo)\n",
      "(1975-01-29,29,29,mié,miércoles)\n",
      "(1974-07-03,03,3,mié,miércoles)\n",
      "(1974-10-18,18,18,vie,viernes)\n",
      "(1970-10-05,05,5,lun,lunes)\n",
      "(1969-02-24,24,24,lun,lunes)\n",
      "(1974-10-17,17,17,jue,jueves)\n",
      "(1975-02-28,28,28,vie,viernes)\n",
      "(1969-12-07,07,7,dom,domingo)\n",
      "(1973-12-24,24,24,lun,lunes)\n",
      "(1970-08-27,27,27,jue,jueves)\n",
      "(1972-12-12,12,12,mar,martes)\n",
      "(1970-07-01,01,1,mié,miércoles)\n",
      "(1974-02-11,11,11,lun,lunes)\n",
      "(1973-04-01,01,1,dom,domingo)\n",
      "(1973-04-29,29,29,dom,domingo)\n"
     ]
    }
   ],
   "source": [
    "%%pig\n",
    "date_data = FOREACH u generate birthday,\n",
    "            ToString( ToDate(birthday,'yyyy-MM-dd'), 'EEE' ) as dia;\n",
    "\n",
    "date_data = FOREACH date_data GENERATE birthday,(CASE     \n",
    "                              WHEN dia == 'Mon' THEN 'lunes' \n",
    "                              WHEN dia == 'Tue' THEN 'martes' \n",
    "                              WHEN dia == 'Wed' THEN 'miércoles' \n",
    "                              WHEN dia == 'Thu' THEN 'jueves' \n",
    "                              WHEN dia == 'Fri' THEN 'viernes' \n",
    "                              WHEN dia == 'Sat' THEN 'sábado'\n",
    "                              WHEN dia == 'Sun' THEN 'domingo' \n",
    "                              END) as dia_semana;\n",
    "date_data = FOREACH date_data GENERATE birthday,\n",
    "(CASE\n",
    "            WHEN GetDay(ToDate(birthday,'yyyy-MM-dd')) < 10 THEN \n",
    "            CONCAT('0',(chararray)GetDay(ToDate(birthday,'yyyy-MM-dd')))\n",
    "            ELSE (chararray)GetDay(ToDate(birthday,'yyyy-MM-dd'))\n",
    "            END),\n",
    "                              GetDay(ToDate(birthday,'yyyy-MM-dd')),\n",
    "                              SUBSTRING(dia_semana,0,3),\n",
    "                              dia_semana;\n",
    "                              \n",
    "dump date_data;"
   ]
  },
  {
   "cell_type": "markdown",
   "metadata": {},
   "source": [
    "## Pregunta 23\n",
    "\n",
    "Cuente la cantidad de personas nacidas por año."
   ]
  },
  {
   "cell_type": "code",
   "execution_count": 37,
   "metadata": {},
   "outputs": [
    {
     "name": "stdout",
     "output_type": "stream",
     "text": [
      "(1969,2)\n",
      "(1970,3)\n",
      "(1971,1)\n",
      "(1972,1)\n",
      "(1973,4)\n",
      "(1974,5)\n",
      "(1975,2)\n"
     ]
    }
   ],
   "source": [
    "%%pig\n",
    "x = FOREACH u GENERATE SUBSTRING(birthday,0,4) as year;\n",
    "y = GROUP x BY year;\n",
    "z = FOREACH y GENERATE group,COUNT(x);\n",
    "dump z;"
   ]
  },
  {
   "cell_type": "markdown",
   "metadata": {},
   "source": [
    "---"
   ]
  },
  {
   "cell_type": "code",
   "execution_count": null,
   "metadata": {},
   "outputs": [],
   "source": [
    "!rm pig_* data.csv"
   ]
  },
  {
   "cell_type": "markdown",
   "metadata": {},
   "source": [
    "---"
   ]
  }
 ],
 "metadata": {
  "kernelspec": {
   "display_name": "Python 3",
   "language": "python",
   "name": "python3"
  },
  "language_info": {
   "codemirror_mode": {
    "name": "ipython",
    "version": 3
   },
   "file_extension": ".py",
   "mimetype": "text/x-python",
   "name": "python",
   "nbconvert_exporter": "python",
   "pygments_lexer": "ipython3",
   "version": "3.6.5"
  }
 },
 "nbformat": 4,
 "nbformat_minor": 2
}
